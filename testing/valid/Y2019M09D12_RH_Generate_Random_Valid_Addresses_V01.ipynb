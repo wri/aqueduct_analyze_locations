{
  "nbformat": 4,
  "nbformat_minor": 0,
  "metadata": {
    "colab": {
      "name": "Y2019M09D12_RH_Generate_Random_Valid_Addresses_V01.ipynb",
      "version": "0.3.2",
      "provenance": [],
      "include_colab_link": true
    },
    "kernelspec": {
      "name": "python3",
      "display_name": "Python 3"
    }
  },
  "cells": [
    {
      "cell_type": "markdown",
      "metadata": {
        "id": "view-in-github",
        "colab_type": "text"
      },
      "source": [
        "<a href=\"https://colab.research.google.com/github/wri/aqueduct_analyze_locations/blob/master/Y2019M09D12_RH_Generate_Random_Valid_Addresses_V01.ipynb\" target=\"_parent\"><img src=\"https://colab.research.google.com/assets/colab-badge.svg\" alt=\"Open In Colab\"/></a>"
      ]
    },
    {
      "cell_type": "markdown",
      "metadata": {
        "id": "rV_-DVQ87PmZ",
        "colab_type": "text"
      },
      "source": [
        "Generate a .csv file with an arbitrary number of valid addresses."
      ]
    },
    {
      "cell_type": "code",
      "metadata": {
        "id": "qd7I-uYX7hZj",
        "colab_type": "code",
        "colab": {
          "base_uri": "https://localhost:8080/",
          "height": 311
        },
        "outputId": "48075588-88cc-4fd8-c663-c01cb2190b38"
      },
      "source": [
        "!pip install geopy geopandas"
      ],
      "execution_count": 1,
      "outputs": [
        {
          "output_type": "stream",
          "text": [
            "Requirement already satisfied: geopy in /usr/local/lib/python3.6/dist-packages (1.17.0)\n",
            "Requirement already satisfied: geopandas in /usr/local/lib/python3.6/dist-packages (0.5.1)\n",
            "Requirement already satisfied: geographiclib<2,>=1.49 in /usr/local/lib/python3.6/dist-packages (from geopy) (1.49)\n",
            "Requirement already satisfied: pandas in /usr/local/lib/python3.6/dist-packages (from geopandas) (0.24.2)\n",
            "Requirement already satisfied: fiona in /usr/local/lib/python3.6/dist-packages (from geopandas) (1.8.6)\n",
            "Requirement already satisfied: shapely in /usr/local/lib/python3.6/dist-packages (from geopandas) (1.6.4.post2)\n",
            "Requirement already satisfied: pyproj in /usr/local/lib/python3.6/dist-packages (from geopandas) (2.3.1)\n",
            "Requirement already satisfied: pytz>=2011k in /usr/local/lib/python3.6/dist-packages (from pandas->geopandas) (2018.9)\n",
            "Requirement already satisfied: python-dateutil>=2.5.0 in /usr/local/lib/python3.6/dist-packages (from pandas->geopandas) (2.5.3)\n",
            "Requirement already satisfied: numpy>=1.12.0 in /usr/local/lib/python3.6/dist-packages (from pandas->geopandas) (1.16.5)\n",
            "Requirement already satisfied: six>=1.7 in /usr/local/lib/python3.6/dist-packages (from fiona->geopandas) (1.12.0)\n",
            "Requirement already satisfied: cligj>=0.5 in /usr/local/lib/python3.6/dist-packages (from fiona->geopandas) (0.5.0)\n",
            "Requirement already satisfied: click<8,>=4.0 in /usr/local/lib/python3.6/dist-packages (from fiona->geopandas) (7.0)\n",
            "Requirement already satisfied: attrs>=17 in /usr/local/lib/python3.6/dist-packages (from fiona->geopandas) (19.1.0)\n",
            "Requirement already satisfied: munch in /usr/local/lib/python3.6/dist-packages (from fiona->geopandas) (2.3.2)\n",
            "Requirement already satisfied: click-plugins>=1.0 in /usr/local/lib/python3.6/dist-packages (from fiona->geopandas) (1.1.1)\n"
          ],
          "name": "stdout"
        }
      ]
    },
    {
      "cell_type": "code",
      "metadata": {
        "id": "-htNZgybTmli",
        "colab_type": "code",
        "colab": {
          "base_uri": "https://localhost:8080/",
          "height": 109
        },
        "outputId": "84f6d2ba-5aea-43a2-963e-39da330190ab"
      },
      "source": [
        "!apt install python3-rtree "
      ],
      "execution_count": 2,
      "outputs": [
        {
          "output_type": "stream",
          "text": [
            "Reading package lists... Done\n",
            "Building dependency tree       \n",
            "Reading state information... Done\n",
            "python3-rtree is already the newest version (0.8.3+ds-1).\n",
            "0 upgraded, 0 newly installed, 0 to remove and 8 not upgraded.\n"
          ],
          "name": "stdout"
        }
      ]
    },
    {
      "cell_type": "code",
      "metadata": {
        "id": "nNz9NQQR7iZ3",
        "colab_type": "code",
        "colab": {}
      },
      "source": [
        "import getpass\n",
        "import datetime\n",
        "import numpy as np\n",
        "import pandas as pd\n",
        "import matplotlib.pyplot as plt\n",
        "import geopandas as gpd\n",
        "from geopy.geocoders import GoogleV3"
      ],
      "execution_count": 0,
      "outputs": []
    },
    {
      "cell_type": "code",
      "metadata": {
        "id": "jFWOXpLM7ihz",
        "colab_type": "code",
        "colab": {
          "base_uri": "https://localhost:8080/",
          "height": 35
        },
        "outputId": "5b76e98c-611f-49dc-d61b-fbbba6e273a2"
      },
      "source": [
        "initiate = True\n",
        "if initiate:\n",
        "  api_key = getpass.getpass(\"Google API key: \")\n",
        "else:\n",
        "  pass"
      ],
      "execution_count": 4,
      "outputs": [
        {
          "output_type": "stream",
          "text": [
            "Google API key: ··········\n"
          ],
          "name": "stdout"
        }
      ]
    },
    {
      "cell_type": "code",
      "metadata": {
        "id": "gUTuZBS5MaNz",
        "colab_type": "code",
        "colab": {}
      },
      "source": [
        "# We do not know how many locations are randomly sampled on land. \n",
        "# Appr. 1/3 of the world is land and we exclude antarctica. Therefor we multiply\n",
        "# by 6 (safe side). \n",
        "\n",
        "desired_sample_size = 100\n",
        "sample_size = 6*desired_sample_size"
      ],
      "execution_count": 0,
      "outputs": []
    },
    {
      "cell_type": "code",
      "metadata": {
        "id": "-XAA8De9LRs1",
        "colab_type": "code",
        "colab": {}
      },
      "source": [
        "def scale_lat(rand):\n",
        "  return rand*180-90\n",
        "\n",
        "def scale_lon(rand):\n",
        "  return rand*360-180\n",
        "\n",
        "\n",
        "def get_random_dataframe(sample_size):\n",
        "  lats = list(map(scale_lat,np.random.rand(sample_size)))\n",
        "  lons = list(map(scale_lon,np.random.rand(sample_size)))\n",
        "  df = pd.DataFrame(data={\"lat\":lats,\"lon\":lons})\n",
        "  gdf = gpd.GeoDataFrame(\n",
        "    df, geometry=gpd.points_from_xy(df.lon, df.lat))\n",
        "  gdf.crs = {'init':'epsg:4326'}\n",
        "  return df, gdf\n",
        "\n",
        "\n",
        "geolocator = GoogleV3(api_key=api_key)\n",
        "def reverse_geocode(row):\n",
        "  location = geolocator.reverse([row.lat, row.lon],exactly_one=True)\n",
        "  if location:\n",
        "    address = location.address  #use most specific address, see https://developers.google.com/maps/documentation/geocoding/intro#reverse-example\n",
        "  else:\n",
        "    address = np.nan\n",
        "  return address\n",
        "\n",
        "\n",
        "def mask_ocean(gdf):\n",
        "  world = gpd.read_file(\n",
        "    gpd.datasets.get_path('naturalearth_lowres')\n",
        "  )\n",
        "  gdf_land = gpd.sjoin(gdf, world, how=\"inner\", op='intersects')\n",
        "  gdf_land = gdf_land.loc[gdf_land[\"continent\"] != 'Antarctica']\n",
        "  print(gdf_land.shape)\n",
        "  return gdf_land\n",
        "\n",
        "def export_address(gdf):\n",
        "  gdf[\"id\"] = gdf_land.index\n",
        "  gdf[\"location_name\"] = \"test\"\n",
        "  \n",
        "  df = gdf[[\"id\",\"location_name\",\"address\"]]\n",
        "  \n",
        "  datetime_string = datetime.datetime.now().isoformat()\n",
        "  filename = \"export_address_{}_{}_V01.csv\".format(desired_sample_size,datetime_string)\n",
        "  df = df[0:desired_sample_size]\n",
        "  df.to_csv(filename,index=False,encoding=\"UTF-8\")\n",
        "  print(\"addresses exported to: {}\".format(filename))\n",
        "  return df\n",
        "\n",
        "\n",
        "def export_coords(gdf):\n",
        "  gdf[\"id\"] = gdf_land.index\n",
        "  gdf[\"location_name\"] = \"test\"\n",
        "  \n",
        "  df = gdf[[\"id\",\"location_name\",\"lat\",\"lon\"]]\n",
        "  \n",
        "  datetime_string = datetime.datetime.now().isoformat()\n",
        "  filename = \"export_coords_{}_{}_V01.csv\".format(desired_sample_size,datetime_string)\n",
        "  df = df[0:desired_sample_size]\n",
        "  df.to_csv(filename,index=False,encoding=\"UTF-8\")\n",
        "  print(\"coords exported to: {}\".format(filename))\n",
        "  return df"
      ],
      "execution_count": 0,
      "outputs": []
    },
    {
      "cell_type": "code",
      "metadata": {
        "id": "zjwmI20tN3XS",
        "colab_type": "code",
        "colab": {
          "base_uri": "https://localhost:8080/",
          "height": 35
        },
        "outputId": "f08c23a8-7cd8-4476-9270-bfaf5206da49"
      },
      "source": [
        "df, gdf = get_random_dataframe(sample_size)\n",
        "gdf_land = mask_ocean(gdf)\n",
        "gdf_land[\"address\"]= gdf_land.apply(reverse_geocode,axis=1)\n"
      ],
      "execution_count": 7,
      "outputs": [
        {
          "output_type": "stream",
          "text": [
            "(125, 9)\n"
          ],
          "name": "stdout"
        }
      ]
    },
    {
      "cell_type": "code",
      "metadata": {
        "id": "CRp_jqz6YP-_",
        "colab_type": "code",
        "colab": {
          "base_uri": "https://localhost:8080/",
          "height": 35
        },
        "outputId": "9a71c7d4-f771-4c94-97d9-ad95221e8d12"
      },
      "source": [
        "df_address = export_address(gdf_land)"
      ],
      "execution_count": 8,
      "outputs": [
        {
          "output_type": "stream",
          "text": [
            "addresses exported to: export_address_100_2019-09-12T12:48:37.353125_V01.csv\n"
          ],
          "name": "stdout"
        }
      ]
    },
    {
      "cell_type": "code",
      "metadata": {
        "id": "YMNlycEneyTU",
        "colab_type": "code",
        "colab": {
          "base_uri": "https://localhost:8080/",
          "height": 35
        },
        "outputId": "f5d7cb04-8783-400b-bf1b-b64843b16b48"
      },
      "source": [
        "df_coords  = export_coords(gdf_land)"
      ],
      "execution_count": 9,
      "outputs": [
        {
          "output_type": "stream",
          "text": [
            "coords exported to: export_coords_100_2019-09-12T12:48:37.447778_V01.csv\n"
          ],
          "name": "stdout"
        }
      ]
    },
    {
      "cell_type": "code",
      "metadata": {
        "id": "PqvC1Vex8-Q1",
        "colab_type": "code",
        "colab": {
          "base_uri": "https://localhost:8080/",
          "height": 212
        },
        "outputId": "7f6a89c1-dcb5-4928-8b3c-a5c5c6854e24"
      },
      "source": [
        "world = gpd.read_file(\n",
        "  gpd.datasets.get_path('naturalearth_lowres')\n",
        ")\n",
        "ax = plt.subplot(1, 1, 1)\n",
        "ax = world.plot(ax=ax)\n",
        "ax = gdf_land.plot(ax=ax,color=\"red\", alpha=0.5)"
      ],
      "execution_count": 10,
      "outputs": [
        {
          "output_type": "display_data",
          "data": {
            "image/png": "[encoded data removed]",
            "text/plain": [
              "<Figure size 432x288 with 1 Axes>"
            ]
          },
          "metadata": {
            "tags": []
          }
        }
      ]
    },
    {
      "cell_type": "code",
      "metadata": {
        "id": "PCVbLo-jXiMu",
        "colab_type": "code",
        "colab": {}
      },
      "source": [
        ""
      ],
      "execution_count": 0,
      "outputs": []
    },
    {
      "cell_type": "code",
      "metadata": {
        "id": "d4yVjK5mWgh4",
        "colab_type": "code",
        "colab": {}
      },
      "source": [
        ""
      ],
      "execution_count": 0,
      "outputs": []
    },
    {
      "cell_type": "code",
      "metadata": {
        "id": "NeD2Hb1ZXEJH",
        "colab_type": "code",
        "colab": {}
      },
      "source": [
        "\n"
      ],
      "execution_count": 0,
      "outputs": []
    },
    {
      "cell_type": "code",
      "metadata": {
        "id": "vCQ9XqrGXcXf",
        "colab_type": "code",
        "colab": {}
      },
      "source": [
        ""
      ],
      "execution_count": 0,
      "outputs": []
    }
  ]
}